{
 "cells": [
  {
   "cell_type": "code",
   "execution_count": 9,
   "metadata": {},
   "outputs": [
    {
     "ename": "HTTPError",
     "evalue": "400 Client Error: Bad Request for url: https://api.airbnb.com/v2/explore_tabs?toddlers=0&adults=0&infants=0&is_guided_search=true&version=1.4.8&section_offset=0&items_offset=0&screen_size=small&source=explore_tabs&items_per_grid=8&_format=for_explore_search_native&metadata_only=false&refinement_paths%5B%5D=%2Fhomes&timezone=Europe%2FLisbon&satori_version=1.1.0&query=Barcelona&checkin=2025-02-21&checkout=2025-02-22",
     "output_type": "error",
     "traceback": [
      "\u001b[0;31m---------------------------------------------------------------------------\u001b[0m",
      "\u001b[0;31mHTTPError\u001b[0m                                 Traceback (most recent call last)",
      "Cell \u001b[0;32mIn[9], line 16\u001b[0m\n\u001b[1;32m     13\u001b[0m checkout_str \u001b[38;5;241m=\u001b[39m tomorrow\u001b[38;5;241m.\u001b[39mstrftime(\u001b[38;5;124m\"\u001b[39m\u001b[38;5;124m%\u001b[39m\u001b[38;5;124mY-\u001b[39m\u001b[38;5;124m%\u001b[39m\u001b[38;5;124mm-\u001b[39m\u001b[38;5;132;01m%d\u001b[39;00m\u001b[38;5;124m\"\u001b[39m)\n\u001b[1;32m     15\u001b[0m \u001b[38;5;66;03m# 3. Call get_homes() with docstring parameters\u001b[39;00m\n\u001b[0;32m---> 16\u001b[0m search_results \u001b[38;5;241m=\u001b[39m \u001b[43mapi\u001b[49m\u001b[38;5;241;43m.\u001b[39;49m\u001b[43mget_homes\u001b[49m\u001b[43m(\u001b[49m\n\u001b[1;32m     17\u001b[0m \u001b[43m    \u001b[49m\u001b[43mquery\u001b[49m\u001b[38;5;241;43m=\u001b[39;49m\u001b[43mcity\u001b[49m\u001b[43m,\u001b[49m\n\u001b[1;32m     18\u001b[0m \u001b[43m    \u001b[49m\u001b[43mcheckin\u001b[49m\u001b[38;5;241;43m=\u001b[39;49m\u001b[43mcheckin_str\u001b[49m\u001b[43m,\u001b[49m\n\u001b[1;32m     19\u001b[0m \u001b[43m    \u001b[49m\u001b[43mcheckout\u001b[49m\u001b[38;5;241;43m=\u001b[39;49m\u001b[43mcheckout_str\u001b[49m\u001b[43m,\u001b[49m\n\u001b[1;32m     20\u001b[0m \u001b[43m    \u001b[49m\u001b[43mitems_per_grid\u001b[49m\u001b[38;5;241;43m=\u001b[39;49m\u001b[38;5;241;43m8\u001b[39;49m\u001b[43m  \u001b[49m\u001b[38;5;66;43;03m# you can change this to 16, 32, etc. to get more listings\u001b[39;49;00m\n\u001b[1;32m     21\u001b[0m \u001b[43m)\u001b[49m\n\u001b[1;32m     23\u001b[0m \u001b[38;5;66;03m# 4. Parse out listings (keys might vary slightly)\u001b[39;00m\n\u001b[1;32m     24\u001b[0m \u001b[38;5;28;01mtry\u001b[39;00m:\n",
      "File \u001b[0;32m~/Documents/Repos/AirBnb_Predict/Data_Ingest/Engine/lib/python3.10/site-packages/airbnb/api.py:63\u001b[0m, in \u001b[0;36mrandomizable.<locals>.wrapper\u001b[0;34m(self, *args, **kwargs)\u001b[0m\n\u001b[1;32m     61\u001b[0m \u001b[38;5;28;01mif\u001b[39;00m \u001b[38;5;28mself\u001b[39m\u001b[38;5;241m.\u001b[39mrandomize:\n\u001b[1;32m     62\u001b[0m     \u001b[38;5;28mself\u001b[39m\u001b[38;5;241m.\u001b[39mrandomize_headers()\n\u001b[0;32m---> 63\u001b[0m \u001b[38;5;28;01mreturn\u001b[39;00m \u001b[43mfunction\u001b[49m\u001b[43m(\u001b[49m\u001b[38;5;28;43mself\u001b[39;49m\u001b[43m,\u001b[49m\u001b[43m \u001b[49m\u001b[38;5;241;43m*\u001b[39;49m\u001b[43margs\u001b[49m\u001b[43m,\u001b[49m\u001b[43m \u001b[49m\u001b[38;5;241;43m*\u001b[39;49m\u001b[38;5;241;43m*\u001b[39;49m\u001b[43mkwargs\u001b[49m\u001b[43m)\u001b[49m\n",
      "File \u001b[0;32m~/Documents/Repos/AirBnb_Predict/Data_Ingest/Engine/lib/python3.10/site-packages/airbnb/api.py:375\u001b[0m, in \u001b[0;36mApi.get_homes\u001b[0;34m(self, query, gps_lat, gps_lng, checkin, checkout, offset, items_per_grid)\u001b[0m\n\u001b[1;32m    372\u001b[0m     params[\u001b[38;5;124m'\u001b[39m\u001b[38;5;124mcheckout\u001b[39m\u001b[38;5;124m'\u001b[39m] \u001b[38;5;241m=\u001b[39m checkout\n\u001b[1;32m    374\u001b[0m r \u001b[38;5;241m=\u001b[39m \u001b[38;5;28mself\u001b[39m\u001b[38;5;241m.\u001b[39m_session\u001b[38;5;241m.\u001b[39mget(API_URL \u001b[38;5;241m+\u001b[39m \u001b[38;5;124m'\u001b[39m\u001b[38;5;124m/explore_tabs\u001b[39m\u001b[38;5;124m'\u001b[39m, params\u001b[38;5;241m=\u001b[39mparams)\n\u001b[0;32m--> 375\u001b[0m \u001b[43mr\u001b[49m\u001b[38;5;241;43m.\u001b[39;49m\u001b[43mraise_for_status\u001b[49m\u001b[43m(\u001b[49m\u001b[43m)\u001b[49m\n\u001b[1;32m    377\u001b[0m \u001b[38;5;28;01mreturn\u001b[39;00m r\u001b[38;5;241m.\u001b[39mjson()\n",
      "File \u001b[0;32m~/Documents/Repos/AirBnb_Predict/Data_Ingest/Engine/lib/python3.10/site-packages/requests/models.py:1024\u001b[0m, in \u001b[0;36mResponse.raise_for_status\u001b[0;34m(self)\u001b[0m\n\u001b[1;32m   1019\u001b[0m     http_error_msg \u001b[38;5;241m=\u001b[39m (\n\u001b[1;32m   1020\u001b[0m         \u001b[38;5;124mf\u001b[39m\u001b[38;5;124m\"\u001b[39m\u001b[38;5;132;01m{\u001b[39;00m\u001b[38;5;28mself\u001b[39m\u001b[38;5;241m.\u001b[39mstatus_code\u001b[38;5;132;01m}\u001b[39;00m\u001b[38;5;124m Server Error: \u001b[39m\u001b[38;5;132;01m{\u001b[39;00mreason\u001b[38;5;132;01m}\u001b[39;00m\u001b[38;5;124m for url: \u001b[39m\u001b[38;5;132;01m{\u001b[39;00m\u001b[38;5;28mself\u001b[39m\u001b[38;5;241m.\u001b[39murl\u001b[38;5;132;01m}\u001b[39;00m\u001b[38;5;124m\"\u001b[39m\n\u001b[1;32m   1021\u001b[0m     )\n\u001b[1;32m   1023\u001b[0m \u001b[38;5;28;01mif\u001b[39;00m http_error_msg:\n\u001b[0;32m-> 1024\u001b[0m     \u001b[38;5;28;01mraise\u001b[39;00m HTTPError(http_error_msg, response\u001b[38;5;241m=\u001b[39m\u001b[38;5;28mself\u001b[39m)\n",
      "\u001b[0;31mHTTPError\u001b[0m: 400 Client Error: Bad Request for url: https://api.airbnb.com/v2/explore_tabs?toddlers=0&adults=0&infants=0&is_guided_search=true&version=1.4.8&section_offset=0&items_offset=0&screen_size=small&source=explore_tabs&items_per_grid=8&_format=for_explore_search_native&metadata_only=false&refinement_paths%5B%5D=%2Fhomes&timezone=Europe%2FLisbon&satori_version=1.1.0&query=Barcelona&checkin=2025-02-21&checkout=2025-02-22"
     ]
    }
   ],
   "source": [
    "import pandas as pd\n",
    "from airbnb import Api\n",
    "import datetime\n",
    "\n",
    "# 1. Initialize the client\n",
    "api = Api(randomize=True)\n",
    "\n",
    "# 2. Prepare search parameters\n",
    "city = \"Barcelona\"  # or \"Barcelona 2 guests\" to hint at guest count\n",
    "today = datetime.date.today()\n",
    "tomorrow = today + datetime.timedelta(days=1)\n",
    "checkin_str = today.strftime(\"%Y-%m-%d\")\n",
    "checkout_str = tomorrow.strftime(\"%Y-%m-%d\")\n",
    "\n",
    "# 3. Call get_homes() with docstring parameters\n",
    "search_results = api.get_homes(\n",
    "    query=city,\n",
    "    checkin=checkin_str,\n",
    "    checkout=checkout_str,\n",
    "    items_per_grid=8  # you can change this to 16, 32, etc. to get more listings\n",
    ")\n",
    "\n",
    "# 4. Parse out listings (keys might vary slightly)\n",
    "try:\n",
    "    listings_data = search_results[\"explore_tabs\"][0][\"sections\"][0][\"listings\"]\n",
    "except (KeyError, IndexError, TypeError) as exc:\n",
    "    print(\"Could not find 'listings' in the JSON structure:\", exc)\n",
    "    listings_data = []\n",
    "\n",
    "# 5. Build a list of dicts\n",
    "listings = []\n",
    "for item in listings_data:\n",
    "    listing = item.get(\"listing\", {})\n",
    "    quote = item.get(\"pricing_quote\", {})\n",
    "\n",
    "    listings.append({\n",
    "        \"id\": listing.get(\"id\"),\n",
    "        \"name\": listing.get(\"name\"),\n",
    "        \"price\": quote.get(\"localized_nightly_price\"),\n",
    "        \"rating\": listing.get(\"star_rating\"),\n",
    "        \"room_type\": listing.get(\"room_and_property_type\"),\n",
    "        \"lat\": listing.get(\"lat\"),\n",
    "        \"lng\": listing.get(\"lng\"),\n",
    "    })\n",
    "\n",
    "# 6. Convert to DataFrame\n",
    "df = pd.DataFrame(listings)\n",
    "print(df.head())\n"
   ]
  },
  {
   "cell_type": "code",
   "execution_count": null,
   "metadata": {},
   "outputs": [],
   "source": []
  },
  {
   "cell_type": "code",
   "execution_count": 7,
   "metadata": {},
   "outputs": [
    {
     "name": "stdout",
     "output_type": "stream",
     "text": [
      "Help on method get_homes in module airbnb.api:\n",
      "\n",
      "get_homes(query=None, gps_lat=None, gps_lng=None, checkin=None, checkout=None, offset=0, items_per_grid=8) method of airbnb.api.Api instance\n",
      "    Search listings with\n",
      "        * Query (e.g. query=\"Lisbon, Portugal\") or\n",
      "        * Location (e.g. gps_lat=55.6123352&gps_lng=37.7117917)\n",
      "        * Check in/check out filters (e.g. checkin=2019-05-15&checkout=2019-05-20)\n",
      "\n"
     ]
    }
   ],
   "source": [
    "help(api.get_homes)\n"
   ]
  },
  {
   "cell_type": "markdown",
   "metadata": {},
   "source": [
    "import pandas as pd\n",
    "import requests\n",
    "\n",
    "# Define the URL for the city you want to analyze\n",
    "city_url = \"http://data.insideairbnb.com/brazil/mg/belo-horizonte/2024-03-11/data/listings.csv.gz\"\n",
    "\n",
    "# Add headers to mimic a browser request\n",
    "headers = {\n",
    "    'User-Agent': 'Mozilla/5.0 (Windows NT 10.0; Win64; x64) AppleWebKit/537.36 (KHTML, like Gecko) Chrome/91.0.4472.124 Safari/537.36'\n",
    "}\n",
    "\n",
    "# Download the data using requests\n",
    "response = requests.get(city_url, headers=headers)\n",
    "if response.status_code == 200:\n",
    "    # Save the content to a temporary file\n",
    "    with open('temp_listings.csv.gz', 'wb') as f:\n",
    "        f.write(response.content)\n",
    "    \n",
    "    # Read the temporary file into a DataFrame\n",
    "    df = pd.read_csv('temp_listings.csv.gz', compression='gzip')\n",
    "    \n",
    "    # Display basic information about the dataset\n",
    "    print(df.info())\n",
    "    \n",
    "    # Show first few rows\n",
    "    print(df.head())\n",
    "else:\n",
    "    print(f\"Failed to download data: Status code {response.status_code}\")"
   ]
  },
  {
   "cell_type": "code",
   "execution_count": 3,
   "metadata": {},
   "outputs": [
    {
     "name": "stdout",
     "output_type": "stream",
     "text": [
      "Failed to download data: Status code 403\n"
     ]
    }
   ],
   "source": [
    "import pandas as pd\n",
    "import requests\n",
    "\n",
    "# Define the URL for the city you want to analyze\n",
    "city_url = \"http://data.insideairbnb.com/brazil/mg/belo-horizonte/2024-03-11/data/listings.csv.gz\"\n",
    "\n",
    "# Add headers to mimic a browser request\n",
    "headers = {\n",
    "    'User-Agent': 'Mozilla/5.0 (Windows NT 10.0; Win64; x64) AppleWebKit/537.36 (KHTML, like Gecko) Chrome/91.0.4472.124 Safari/537.36'\n",
    "}\n",
    "\n",
    "# Download the data using requests\n",
    "response = requests.get(city_url, headers=headers)\n",
    "if response.status_code == 200:\n",
    "    # Save the content to a temporary file\n",
    "    with open('temp_listings.csv.gz', 'wb') as f:\n",
    "        f.write(response.content)\n",
    "    \n",
    "    # Read the temporary file into a DataFrame\n",
    "    df = pd.read_csv('temp_listings.csv.gz', compression='gzip')\n",
    "    \n",
    "    # Display basic information about the dataset\n",
    "    print(df.info())\n",
    "    \n",
    "    # Show first few rows\n",
    "    print(df.head())\n",
    "else:\n",
    "    print(f\"Failed to download data: Status code {response.status_code}\")"
   ]
  }
 ],
 "metadata": {
  "kernelspec": {
   "display_name": "Python 3",
   "language": "python",
   "name": "python3"
  },
  "language_info": {
   "codemirror_mode": {
    "name": "ipython",
    "version": 3
   },
   "file_extension": ".py",
   "mimetype": "text/x-python",
   "name": "python",
   "nbconvert_exporter": "python",
   "pygments_lexer": "ipython3",
   "version": "3.10.12"
  }
 },
 "nbformat": 4,
 "nbformat_minor": 2
}
