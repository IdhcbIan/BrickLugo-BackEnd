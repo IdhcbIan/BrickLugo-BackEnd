{
 "cells": [
  {
   "cell_type": "code",
   "execution_count": 6,
   "metadata": {},
   "outputs": [
    {
     "name": "stderr",
     "output_type": "stream",
     "text": [
      "The geckodriver version (0.35.0) detected in PATH at /usr/bin/geckodriver might not be compatible with the detected firefox version (135.0.1); currently, geckodriver 0.36.0 is recommended for firefox 135.*, so it is advised to delete the driver in PATH and retry\n"
     ]
    },
    {
     "name": "stdout",
     "output_type": "stream",
     "text": [
      "Found 15 listings\n"
     ]
    }
   ],
   "source": [
    "from selenium import webdriver\n",
    "from selenium.webdriver.firefox.service import Service\n",
    "from selenium.webdriver.firefox.options import Options\n",
    "from selenium.webdriver.common.by import By\n",
    "from selenium.webdriver.support.ui import WebDriverWait\n",
    "from selenium.webdriver.support import expected_conditions as EC\n",
    "import time\n",
    "import pandas as pd\n",
    "\n",
    "# Set up Firefox options\n",
    "firefox_options = Options()\n",
    "firefox_options.add_argument(\"--headless\")  # Run in headless mode (no browser UI)\n",
    "firefox_options.add_argument(\"--no-sandbox\")\n",
    "firefox_options.add_argument(\"--disable-dev-shm-usage\")\n",
    "\n",
    "# Initialize the Firefox driver\n",
    "driver = webdriver.Firefox(options=firefox_options)\n",
    "\n",
    "# URL to scrape\n",
    "url = \"https://www.airbnb.com/s/Belo-Horizonte--MG/homes?refinement_paths%5B%5D=%2Fhomes&flexible_trip_lengths%5B%5D=one_week&price_filter_input_type=0&channel=EXPLORE&place_id=ChIJMyzPysqQpgARlznSOl55NVs&acp_id=8949c462-3712-48e3-8bed-185932a32fe1&date_picker_type=calendar&source=structured_search_input_header&search_type=user_map_move&query=Belo%20Horizonte%2C%20MG&search_mode=regular_search&price_filter_num_nights=1&ne_lat=-19.762079585687626&ne_lng=-43.924126024396315&sw_lat=-19.837703838936648&sw_lng=-43.99818231236125&zoom=12.883832463880852&zoom_level=12.883832463880852&search_by_map=true&checkin=2025-03-01&checkout=2025-03-02&monthly_start_date=2025-04-01&monthly_length=3&monthly_end_date=2025-07-01\"\n",
    "\n",
    "# Navigate to the URL\n",
    "driver.get(url)\n",
    "\n",
    "# Wait for the page to load\n",
    "time.sleep(5)\n",
    "\n",
    "# Wait for listings to appear\n",
    "wait = WebDriverWait(driver, 10)\n",
    "listings = wait.until(EC.presence_of_all_elements_located((By.CSS_SELECTOR, \"div[itemprop='itemListElement']\")))\n",
    "\n",
    "# Initialize lists to store data\n",
    "names = []\n",
    "prices = []\n",
    "ratings = []\n",
    "details = []\n",
    "\n",
    "# Extract information from each listing\n",
    "for listing in listings:\n",
    "    try:\n",
    "        # Get listing name\n",
    "        name = listing.find_element(By.CSS_SELECTOR, \"meta[itemprop='name']\").get_attribute(\"content\")\n",
    "        names.append(name)\n",
    "    except:\n",
    "        names.append(\"N/A\")\n",
    "    \n",
    "    try:\n",
    "        # Get price\n",
    "        price = listing.find_element(By.CSS_SELECTOR, \"span._hb913q\").text\n",
    "        prices.append(price)\n",
    "    except:\n",
    "        prices.append(\"N/A\")\n",
    "    \n",
    "    try:\n",
    "        # Get rating\n",
    "        rating = listing.find_element(By.CSS_SELECTOR, \"span[aria-label*='rated']\").get_attribute(\"aria-label\")\n",
    "        ratings.append(rating)\n",
    "    except:\n",
    "        ratings.append(\"N/A\")\n",
    "    \n",
    "    try:\n",
    "        # Get details (beds, bedrooms, etc.)\n",
    "        detail = listing.find_element(By.CSS_SELECTOR, \"div[data-testid='listing-card-subtitle']\").text\n",
    "        details.append(detail)\n",
    "    except:\n",
    "        details.append(\"N/A\")\n",
    "\n",
    "# Create a DataFrame\n",
    "airbnb_data = pd.DataFrame({\n",
    "    'Name': names,\n",
    "    'Price': prices,\n",
    "    'Rating': ratings,\n",
    "    'Details': details\n",
    "})\n",
    "\n",
    "# Display the data\n",
    "print(f\"Found {len(airbnb_data)} listings\")\n",
    "airbnb_data.head()\n",
    "\n",
    "# Close the browser\n",
    "driver.quit()\n",
    "\n"
   ]
  },
  {
   "cell_type": "code",
   "execution_count": 7,
   "metadata": {},
   "outputs": [
    {
     "name": "stdout",
     "output_type": "stream",
     "text": [
      "                                               Name     Price Rating  \\\n",
      "0                     Comfortable room in Pampulha.    R$169     N/A   \n",
      "1                        Cozy House with 4 Bedrooms    R$197     N/A   \n",
      "2                                       Wal's cozy.    R$285     N/A   \n",
      "3                Apto aconchegante no Floramar. CA2    R$232     N/A   \n",
      "4                                       single room    R$160     N/A   \n",
      "5                              Room with single bed    R$171     N/A   \n",
      "6                     Casa Intimista for Events -Bh  R$1,383     N/A   \n",
      "7                                      Casa simples  R$1,369     N/A   \n",
      "8                       Apto near Mineirão and UFMG    R$687     N/A   \n",
      "9                                Day use pool space    R$639     N/A   \n",
      "10                             Casa Simples BH cozy  R$1,712     N/A   \n",
      "11  Pleasant house, TV, Wi Fi, qto c table, parking     R$74     N/A   \n",
      "12                         Kitnet in Belo Horizonte    R$479     N/A   \n",
      "13                        Kitnet in Belo Horizonte.    R$451     N/A   \n",
      "14                                Casa Aconchegante    R$190     N/A   \n",
      "\n",
      "                                              Details  \n",
      "0                       Comfortable room in Pampulha.  \n",
      "1                          Cozy House with 4 Bedrooms  \n",
      "2                                         Wal's cozy.  \n",
      "3                  Apto aconchegante no Floramar. CA2  \n",
      "4   Stay with Lia\\nStay with Lia\\nHosting for 7 ye...  \n",
      "5                                Room with single bed  \n",
      "6                       Casa Intimista for Events -Bh  \n",
      "7                                        Casa simples  \n",
      "8                         Apto near Mineirão and UFMG  \n",
      "9                                  Day use pool space  \n",
      "10                               Casa Simples BH cozy  \n",
      "11  Stay with Paulo\\nStay with Paulo\\nHosting for ...  \n",
      "12                           Kitnet in Belo Horizonte  \n",
      "13                          Kitnet in Belo Horizonte.  \n",
      "14                                  Casa Aconchegante  \n"
     ]
    }
   ],
   "source": [
    "print(airbnb_data)"
   ]
  }
 ],
 "metadata": {
  "kernelspec": {
   "display_name": "Scrap",
   "language": "python",
   "name": "python3"
  },
  "language_info": {
   "codemirror_mode": {
    "name": "ipython",
    "version": 3
   },
   "file_extension": ".py",
   "mimetype": "text/x-python",
   "name": "python",
   "nbconvert_exporter": "python",
   "pygments_lexer": "ipython3",
   "version": "3.10.12"
  }
 },
 "nbformat": 4,
 "nbformat_minor": 2
}
